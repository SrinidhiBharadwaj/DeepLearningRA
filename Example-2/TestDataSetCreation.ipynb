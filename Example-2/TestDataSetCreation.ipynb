{
 "cells": [
  {
   "cell_type": "code",
   "execution_count": 1,
   "id": "70c37120",
   "metadata": {},
   "outputs": [],
   "source": [
    "from PIL import Image\n",
    "import glob\n",
    "import os"
   ]
  },
  {
   "cell_type": "code",
   "execution_count": 17,
   "id": "9cfd682e",
   "metadata": {},
   "outputs": [],
   "source": [
    "#Split the tif files into their individual components\n",
    "path = 'testImages/'\n",
    "outPath = 'images/'\n",
    "images = os.listdir(image_directory)\n",
    "count = 0\n",
    "for images in os.listdir(path):\n",
    "     img = Image.open(path+'testImage' + str(count) +'.tif')\n",
    "     for i in range(6):\n",
    "        try:\n",
    "            img.seek(i)\n",
    "            img.save(outPath + 'testImage' + str(count) +'_page_%s.tif'%(i,))\n",
    "        except EOFError:\n",
    "            break\n",
    "     count+=1"
   ]
  },
  {
   "cell_type": "code",
   "execution_count": 16,
   "id": "ea36c928",
   "metadata": {},
   "outputs": [],
   "source": [
    "#Split the mask files into their individual components\n",
    "path = 'testMasks/'\n",
    "outPath = 'masks/'\n",
    "images = os.listdir(image_directory)\n",
    "count = 0\n",
    "for images in os.listdir(path):\n",
    "     img = Image.open(path+'testImage' + str(count) +'.tif')\n",
    "     for i in range(6):\n",
    "        try:\n",
    "            img.seek(i)\n",
    "            img.save(outPath + 'maskImage' + str(count) +'_page_%s.tif'%(i,))\n",
    "        except EOFError:\n",
    "            break\n",
    "     count+=1"
   ]
  },
  {
   "cell_type": "code",
   "execution_count": 3,
   "id": "0e2dfdb0",
   "metadata": {},
   "outputs": [],
   "source": [
    "#Create image patches\n",
    "import tifffile as tiff\n",
    "from patchify import patchify\n",
    "path = 'testImagesUpdated/'\n",
    "outPath = '../PostFinalVerification/images/'\n",
    "#images = os.listdir(image_directory)\n",
    "count = 0\n",
    "for images in os.listdir(path):\n",
    "    large_image_stack = tiff.imread(path + 'testImage' + str(count) +'.tif')\n",
    "    for img in range(large_image_stack.shape[0]):\n",
    "        large_image = large_image_stack[img]\n",
    "        patches_img = patchify(large_image, (128, 128), step=128)  #Step=256 for 256 patches means no overlap \n",
    "        for i in range(patches_img.shape[0]):\n",
    "            for j in range(patches_img.shape[1]): \n",
    "                single_patch_img = patches_img[i,j,:,:]\n",
    "                tiff.imwrite(outPath  + 'testImage' + str(count) + '_image_' + str(img) + '_' + str(i)+str(j)+ \".tif\", single_patch_img)\n",
    "    count+=1\n"
   ]
  },
  {
   "cell_type": "code",
   "execution_count": 5,
   "id": "2a0c9938",
   "metadata": {},
   "outputs": [],
   "source": [
    "path = 'testMasksUpdated/'\n",
    "outPath = '../PostFinalVerification/masks/'\n",
    "#images = os.listdir(image_directory)\n",
    "count = 0\n",
    "for images in os.listdir(path):\n",
    "    large_image_stack = tiff.imread(path + 'testImage' + str(count) +'.tif')\n",
    "    for img in range(large_image_stack.shape[0]):\n",
    "        large_image = large_image_stack[img]\n",
    "        patches_img = patchify(large_image, (128, 128), step=128)  #Step=256 for 256 patches means no overlap \n",
    "        for i in range(patches_img.shape[0]):\n",
    "            for j in range(patches_img.shape[1]): \n",
    "                single_patch_img = patches_img[i,j,:,:]\n",
    "                tiff.imwrite(outPath  + 'testImage' + str(count) + '_image_' + str(img) + '_' + str(i)+str(j)+ \".tif\", single_patch_img)\n",
    "    count+=1"
   ]
  },
  {
   "cell_type": "code",
   "execution_count": 39,
   "id": "667499ce",
   "metadata": {},
   "outputs": [],
   "source": [
    "path = 'example/'\n",
    "outPath = 'example/output/'\n",
    "images = os.listdir(image_directory)\n",
    "count = 0\n",
    "\n",
    "large_image_stack = tiff.imread(path + 'TestVector.tif')\n",
    "\n",
    "for img in range(large_image_stack.shape[0]):\n",
    "    large_image = large_image_stack[img]\n",
    "    patches_img = patchify(large_image, (128, 128), step=128)  #Step=256 for 256 patches means no overlap \n",
    "    for i in range(patches_img.shape[0]):\n",
    "        for j in range(patches_img.shape[1]): \n",
    "            single_patch_img = patches_img[i,j,:,:]\n",
    "            tiff.imwrite(outPath  + 'testImage' + str(count) + '_image_' + str(img) + '_' + str(i)+str(j)+ \".tif\", single_patch_img)\n",
    "    count+=1"
   ]
  },
  {
   "cell_type": "code",
   "execution_count": null,
   "id": "19fa60ac",
   "metadata": {},
   "outputs": [],
   "source": []
  }
 ],
 "metadata": {
  "kernelspec": {
   "display_name": "Python 3",
   "language": "python",
   "name": "python3"
  },
  "language_info": {
   "codemirror_mode": {
    "name": "ipython",
    "version": 3
   },
   "file_extension": ".py",
   "mimetype": "text/x-python",
   "name": "python",
   "nbconvert_exporter": "python",
   "pygments_lexer": "ipython3",
   "version": "3.7.10"
  }
 },
 "nbformat": 4,
 "nbformat_minor": 5
}

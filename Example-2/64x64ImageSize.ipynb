{
  "nbformat": 4,
  "nbformat_minor": 0,
  "metadata": {
    "colab": {
      "name": "64x64ImageSize.ipynb",
      "provenance": [],
      "collapsed_sections": []
    },
    "kernelspec": {
      "name": "python3",
      "display_name": "Python 3"
    },
    "language_info": {
      "name": "python"
    },
    "accelerator": "GPU"
  },
  "cells": [
    {
      "cell_type": "code",
      "metadata": {
        "colab": {
          "base_uri": "https://localhost:8080/"
        },
        "id": "5_NiqtcHbABo",
        "outputId": "7446e3a2-e1b7-4aef-9e0f-33d587ad72e6"
      },
      "source": [
        "!git clone https://github.com/SrinidhiBharadwaj/Scratch.git"
      ],
      "execution_count": null,
      "outputs": [
        {
          "output_type": "stream",
          "text": [
            "Cloning into 'Scratch'...\n",
            "remote: Enumerating objects: 5768, done.\u001b[K\n",
            "remote: Counting objects: 100% (2140/2140), done.\u001b[K\n",
            "remote: Compressing objects: 100% (267/267), done.\u001b[K\n",
            "remote: Total 5768 (delta 1877), reused 2134 (delta 1871), pack-reused 3628\n",
            "Receiving objects: 100% (5768/5768), 187.09 MiB | 48.30 MiB/s, done.\n",
            "Resolving deltas: 100% (3511/3511), done.\n"
          ],
          "name": "stdout"
        }
      ]
    },
    {
      "cell_type": "code",
      "metadata": {
        "id": "17hIggKxbQfO"
      },
      "source": [
        "from unetModel import simple_unet_model \n",
        "import keras\n",
        "import os\n",
        "import cv2\n",
        "from PIL import Image\n",
        "import numpy as np\n",
        "from matplotlib import pyplot as plt\n",
        "import glob"
      ],
      "execution_count": 40,
      "outputs": []
    },
    {
      "cell_type": "code",
      "metadata": {
        "id": "9s2_vubnms4D"
      },
      "source": [
        "#Create image patches\n",
        "import tifffile as tiff\n",
        "from patchify import patchify\n",
        "path = '/content/Scratch/Example-2/testImages/'\n",
        "outPath = '/content/Scratch/SmallerPatches/images/'\n",
        "#images = os.listdir(image_directory)\n",
        "count = 0\n",
        "for images in os.listdir(path):\n",
        "    large_image_stack = tiff.imread(path + 'testImage' + str(count) +'.tif')\n",
        "    for img in range(large_image_stack.shape[0]):\n",
        "        large_image = large_image_stack[img]\n",
        "        #patches_img = patchify(large_image, (128, 128), step=128)\n",
        "        patches_img = patchify(large_image, (64, 64), step=64)  #Step=256 for 256 patches means no overlap \n",
        "        for i in range(patches_img.shape[0]):\n",
        "            for j in range(patches_img.shape[1]): \n",
        "                single_patch_img = patches_img[i,j,:,:]\n",
        "                tiff.imwrite(outPath  + 'testImage' + str(count) + '_image_' + str(img) + '_' + str(i)+str(j)+ \".tif\", single_patch_img)\n",
        "    count+=1"
      ],
      "execution_count": 41,
      "outputs": []
    },
    {
      "cell_type": "code",
      "metadata": {
        "id": "Bwv6dk1YmtA-"
      },
      "source": [
        "path = '/content/Scratch/Example-2/testMasks/'\n",
        "outPath = '/content/Scratch/SmallerPatches/masks/'\n",
        "#images = os.listdir(image_directory)\n",
        "count = 0\n",
        "for images in os.listdir(path):\n",
        "    large_image_stack = tiff.imread(path + 'testImage' + str(count) +'.tif')\n",
        "    for img in range(large_image_stack.shape[0]):\n",
        "        large_image = large_image_stack[img]\n",
        "        patches_img = patchify(large_image, (64, 64), step=64)  #Step=256 for 256 patches means no overlap \n",
        "        for i in range(patches_img.shape[0]):\n",
        "            for j in range(patches_img.shape[1]): \n",
        "                single_patch_img = patches_img[i,j,:,:]\n",
        "                tiff.imwrite(outPath  + 'testImage' + str(count) + '_image_' + str(img) + '_' + str(i)+str(j)+ \".tif\", single_patch_img)\n",
        "    count+=1"
      ],
      "execution_count": 42,
      "outputs": []
    },
    {
      "cell_type": "code",
      "metadata": {
        "id": "npdyWoR8bU0q"
      },
      "source": [
        "image_directory = '/content/Scratch/SmallerPatches/images/'\n",
        "mask_directory = '/content/Scratch/SmallerPatches/masks/'"
      ],
      "execution_count": 43,
      "outputs": []
    },
    {
      "cell_type": "code",
      "metadata": {
        "id": "kt5baS--bddM"
      },
      "source": [
        "SIZE = 64\n",
        "image_dataset = []  #Many ways to handle data, you can use pandas. Here, we are using a list format.  \n",
        "mask_dataset = []  #Place holders to define add labels. We will add 0 to all parasitized images and 1 to uninfected.\n",
        "#Load the images from the dataset and save as numpy arrays\n",
        "images = os.listdir(image_directory)\n",
        "count=0\n",
        "#Load the images from the dataset and save as numpy arrays\n",
        "for i, image_name in enumerate(images):    #Remember enumerate method adds a counter and returns the enumerate object\n",
        "    if (image_name.split('.')[1] == 'tif'):\n",
        "        #print(image_name)\n",
        "        image = cv2.imread(image_directory+image_name, 0)\n",
        "        mask = cv2.imread(mask_directory+image_name, 0)\n",
        "        image = Image.fromarray(image)\n",
        "        image = image.resize((SIZE, SIZE))\n",
        "        image_dataset.append(np.array(image))\n",
        "\n",
        "        mask = Image.fromarray(mask)\n",
        "        mask = mask.resize((SIZE, SIZE))\n",
        "        mask_dataset.append(np.array(mask))"
      ],
      "execution_count": 44,
      "outputs": []
    },
    {
      "cell_type": "code",
      "metadata": {
        "colab": {
          "base_uri": "https://localhost:8080/"
        },
        "id": "LUKWlKbYbjCu",
        "outputId": "8afb04a4-e6da-486b-9018-0434bc7ea45b"
      },
      "source": [
        "#Normalize images and rescale masks between 0 and 1\n",
        "import tensorflow as tf\n",
        "image_dataset = np.expand_dims(tf.keras.utils.normalize(np.array(image_dataset), axis=1),3)\n",
        "mask_dataset = np.expand_dims((np.array(mask_dataset)),3) /255.\n",
        "image_dataset.shape"
      ],
      "execution_count": 45,
      "outputs": [
        {
          "output_type": "execute_result",
          "data": {
            "text/plain": [
              "(3072, 64, 64, 1)"
            ]
          },
          "metadata": {
            "tags": []
          },
          "execution_count": 45
        }
      ]
    },
    {
      "cell_type": "code",
      "metadata": {
        "id": "65pjUgIidm1Y"
      },
      "source": [
        "#Split the dataset into training and testing to avoid over fitting\n",
        "from sklearn.model_selection import train_test_split\n",
        "X_train, X_test, y_train, y_test = train_test_split(image_dataset, mask_dataset, test_size = 0.10, random_state = 0)"
      ],
      "execution_count": 46,
      "outputs": []
    },
    {
      "cell_type": "code",
      "metadata": {
        "colab": {
          "base_uri": "https://localhost:8080/",
          "height": 354
        },
        "id": "_sA3L1ngdpZ6",
        "outputId": "4c24b847-d851-4b64-dd77-8f60ac5683e6"
      },
      "source": [
        "#Sanity check\n",
        "\n",
        "import random\n",
        "import numpy as np\n",
        "image_number = random.randint(0, 3071)\n",
        "plt.figure(figsize=(12,6))\n",
        "plt.subplot(121)\n",
        "plt.imshow(np.reshape(X_train[image_number], (64,64)), cmap='gray')\n",
        "plt.subplot(122)\n",
        "plt.imshow(np.reshape(y_train[image_number], (64,64)), cmap='gray')\n",
        "plt.show()"
      ],
      "execution_count": 47,
      "outputs": [
        {
          "output_type": "display_data",
          "data": {
            "image/png": "[encoded data removed]",
            "text/plain": [
              "<Figure size 864x432 with 2 Axes>"
            ]
          },
          "metadata": {
            "tags": [],
            "needs_background": "light"
          }
        }
      ]
    },
    {
      "cell_type": "code",
      "metadata": {
        "colab": {
          "base_uri": "https://localhost:8080/"
        },
        "id": "i6czYw7idtIj",
        "outputId": "e8ae2ae0-7056-429a-9b78-380de18c858b"
      },
      "source": [
        "IMG_HEIGHT = image_dataset.shape[1]\n",
        "IMG_WIDTH  = image_dataset.shape[2]\n",
        "IMG_CHANNELS = image_dataset.shape[3]\n",
        "\n",
        "def get_model():\n",
        "    return simple_unet_model(IMG_HEIGHT, IMG_WIDTH, IMG_CHANNELS)\n",
        "\n",
        "model = get_model()"
      ],
      "execution_count": 48,
      "outputs": [
        {
          "output_type": "stream",
          "text": [
            "Model: \"model_3\"\n",
            "__________________________________________________________________________________________________\n",
            "Layer (type)                    Output Shape         Param #     Connected to                     \n",
            "==================================================================================================\n",
            "input_4 (InputLayer)            [(None, 64, 64, 1)]  0                                            \n",
            "__________________________________________________________________________________________________\n",
            "conv2d_57 (Conv2D)              (None, 64, 64, 16)   160         input_4[0][0]                    \n",
            "__________________________________________________________________________________________________\n",
            "dropout_27 (Dropout)            (None, 64, 64, 16)   0           conv2d_57[0][0]                  \n",
            "__________________________________________________________________________________________________\n",
            "conv2d_58 (Conv2D)              (None, 64, 64, 16)   2320        dropout_27[0][0]                 \n",
            "__________________________________________________________________________________________________\n",
            "max_pooling2d_12 (MaxPooling2D) (None, 32, 32, 16)   0           conv2d_58[0][0]                  \n",
            "__________________________________________________________________________________________________\n",
            "conv2d_59 (Conv2D)              (None, 32, 32, 32)   4640        max_pooling2d_12[0][0]           \n",
            "__________________________________________________________________________________________________\n",
            "dropout_28 (Dropout)            (None, 32, 32, 32)   0           conv2d_59[0][0]                  \n",
            "__________________________________________________________________________________________________\n",
            "conv2d_60 (Conv2D)              (None, 32, 32, 32)   9248        dropout_28[0][0]                 \n",
            "__________________________________________________________________________________________________\n",
            "max_pooling2d_13 (MaxPooling2D) (None, 16, 16, 32)   0           conv2d_60[0][0]                  \n",
            "__________________________________________________________________________________________________\n",
            "conv2d_61 (Conv2D)              (None, 16, 16, 64)   18496       max_pooling2d_13[0][0]           \n",
            "__________________________________________________________________________________________________\n",
            "dropout_29 (Dropout)            (None, 16, 16, 64)   0           conv2d_61[0][0]                  \n",
            "__________________________________________________________________________________________________\n",
            "conv2d_62 (Conv2D)              (None, 16, 16, 64)   36928       dropout_29[0][0]                 \n",
            "__________________________________________________________________________________________________\n",
            "max_pooling2d_14 (MaxPooling2D) (None, 8, 8, 64)     0           conv2d_62[0][0]                  \n",
            "__________________________________________________________________________________________________\n",
            "conv2d_63 (Conv2D)              (None, 8, 8, 128)    73856       max_pooling2d_14[0][0]           \n",
            "__________________________________________________________________________________________________\n",
            "dropout_30 (Dropout)            (None, 8, 8, 128)    0           conv2d_63[0][0]                  \n",
            "__________________________________________________________________________________________________\n",
            "conv2d_64 (Conv2D)              (None, 8, 8, 128)    147584      dropout_30[0][0]                 \n",
            "__________________________________________________________________________________________________\n",
            "max_pooling2d_15 (MaxPooling2D) (None, 4, 4, 128)    0           conv2d_64[0][0]                  \n",
            "__________________________________________________________________________________________________\n",
            "conv2d_65 (Conv2D)              (None, 4, 4, 256)    295168      max_pooling2d_15[0][0]           \n",
            "__________________________________________________________________________________________________\n",
            "dropout_31 (Dropout)            (None, 4, 4, 256)    0           conv2d_65[0][0]                  \n",
            "__________________________________________________________________________________________________\n",
            "conv2d_66 (Conv2D)              (None, 4, 4, 256)    590080      dropout_31[0][0]                 \n",
            "__________________________________________________________________________________________________\n",
            "conv2d_transpose_12 (Conv2DTran (None, 8, 8, 128)    131200      conv2d_66[0][0]                  \n",
            "__________________________________________________________________________________________________\n",
            "concatenate_12 (Concatenate)    (None, 8, 8, 256)    0           conv2d_transpose_12[0][0]        \n",
            "                                                                 conv2d_64[0][0]                  \n",
            "__________________________________________________________________________________________________\n",
            "conv2d_67 (Conv2D)              (None, 8, 8, 128)    295040      concatenate_12[0][0]             \n",
            "__________________________________________________________________________________________________\n",
            "dropout_32 (Dropout)            (None, 8, 8, 128)    0           conv2d_67[0][0]                  \n",
            "__________________________________________________________________________________________________\n",
            "conv2d_68 (Conv2D)              (None, 8, 8, 128)    147584      dropout_32[0][0]                 \n",
            "__________________________________________________________________________________________________\n",
            "conv2d_transpose_13 (Conv2DTran (None, 16, 16, 64)   32832       conv2d_68[0][0]                  \n",
            "__________________________________________________________________________________________________\n",
            "concatenate_13 (Concatenate)    (None, 16, 16, 128)  0           conv2d_transpose_13[0][0]        \n",
            "                                                                 conv2d_62[0][0]                  \n",
            "__________________________________________________________________________________________________\n",
            "conv2d_69 (Conv2D)              (None, 16, 16, 64)   73792       concatenate_13[0][0]             \n",
            "__________________________________________________________________________________________________\n",
            "dropout_33 (Dropout)            (None, 16, 16, 64)   0           conv2d_69[0][0]                  \n",
            "__________________________________________________________________________________________________\n",
            "conv2d_70 (Conv2D)              (None, 16, 16, 64)   36928       dropout_33[0][0]                 \n",
            "__________________________________________________________________________________________________\n",
            "conv2d_transpose_14 (Conv2DTran (None, 32, 32, 32)   8224        conv2d_70[0][0]                  \n",
            "__________________________________________________________________________________________________\n",
            "concatenate_14 (Concatenate)    (None, 32, 32, 64)   0           conv2d_transpose_14[0][0]        \n",
            "                                                                 conv2d_60[0][0]                  \n",
            "__________________________________________________________________________________________________\n",
            "conv2d_71 (Conv2D)              (None, 32, 32, 32)   18464       concatenate_14[0][0]             \n",
            "__________________________________________________________________________________________________\n",
            "dropout_34 (Dropout)            (None, 32, 32, 32)   0           conv2d_71[0][0]                  \n",
            "__________________________________________________________________________________________________\n",
            "conv2d_72 (Conv2D)              (None, 32, 32, 32)   9248        dropout_34[0][0]                 \n",
            "__________________________________________________________________________________________________\n",
            "conv2d_transpose_15 (Conv2DTran (None, 64, 64, 16)   2064        conv2d_72[0][0]                  \n",
            "__________________________________________________________________________________________________\n",
            "concatenate_15 (Concatenate)    (None, 64, 64, 32)   0           conv2d_transpose_15[0][0]        \n",
            "                                                                 conv2d_58[0][0]                  \n",
            "__________________________________________________________________________________________________\n",
            "conv2d_73 (Conv2D)              (None, 64, 64, 16)   4624        concatenate_15[0][0]             \n",
            "__________________________________________________________________________________________________\n",
            "dropout_35 (Dropout)            (None, 64, 64, 16)   0           conv2d_73[0][0]                  \n",
            "__________________________________________________________________________________________________\n",
            "conv2d_74 (Conv2D)              (None, 64, 64, 16)   2320        dropout_35[0][0]                 \n",
            "__________________________________________________________________________________________________\n",
            "conv2d_75 (Conv2D)              (None, 64, 64, 1)    17          conv2d_74[0][0]                  \n",
            "==================================================================================================\n",
            "Total params: 1,940,817\n",
            "Trainable params: 1,940,817\n",
            "Non-trainable params: 0\n",
            "__________________________________________________________________________________________________\n"
          ],
          "name": "stdout"
        }
      ]
    },
    {
      "cell_type": "code",
      "metadata": {
        "colab": {
          "base_uri": "https://localhost:8080/"
        },
        "id": "n9rLohAVeC5m",
        "outputId": "5e1404fe-9a76-4675-82af-a55af24f32a0"
      },
      "source": [
        "history = model.fit(X_train, y_train, \n",
        "                    batch_size = 16, \n",
        "                    verbose=1, \n",
        "                    epochs=10, \n",
        "                    validation_data=(X_test, y_test), \n",
        "                    shuffle=False)"
      ],
      "execution_count": 49,
      "outputs": [
        {
          "output_type": "stream",
          "text": [
            "Epoch 1/10\n",
            "173/173 [==============================] - 8s 25ms/step - loss: 0.1945 - accuracy: 0.9800 - val_loss: 0.0363 - val_accuracy: 0.9837\n",
            "Epoch 2/10\n",
            "173/173 [==============================] - 3s 17ms/step - loss: 0.0296 - accuracy: 0.9868 - val_loss: 0.0325 - val_accuracy: 0.9853\n",
            "Epoch 3/10\n",
            "173/173 [==============================] - 3s 17ms/step - loss: 0.0254 - accuracy: 0.9886 - val_loss: 0.0286 - val_accuracy: 0.9867\n",
            "Epoch 4/10\n",
            "173/173 [==============================] - 3s 17ms/step - loss: 0.0233 - accuracy: 0.9894 - val_loss: 0.0254 - val_accuracy: 0.9888\n",
            "Epoch 5/10\n",
            "173/173 [==============================] - 3s 17ms/step - loss: 0.0206 - accuracy: 0.9906 - val_loss: 0.0242 - val_accuracy: 0.9891\n",
            "Epoch 6/10\n",
            "173/173 [==============================] - 3s 17ms/step - loss: 0.0196 - accuracy: 0.9911 - val_loss: 0.0231 - val_accuracy: 0.9894\n",
            "Epoch 7/10\n",
            "173/173 [==============================] - 3s 16ms/step - loss: 0.0183 - accuracy: 0.9919 - val_loss: 0.0234 - val_accuracy: 0.9893\n",
            "Epoch 8/10\n",
            "173/173 [==============================] - 3s 17ms/step - loss: 0.0168 - accuracy: 0.9926 - val_loss: 0.0193 - val_accuracy: 0.9914\n",
            "Epoch 9/10\n",
            "173/173 [==============================] - 3s 16ms/step - loss: 0.0156 - accuracy: 0.9932 - val_loss: 0.0186 - val_accuracy: 0.9918\n",
            "Epoch 10/10\n",
            "173/173 [==============================] - 3s 17ms/step - loss: 0.0135 - accuracy: 0.9941 - val_loss: 0.0167 - val_accuracy: 0.9927\n"
          ],
          "name": "stdout"
        }
      ]
    },
    {
      "cell_type": "code",
      "metadata": {
        "id": "b6rv1wiGeghN"
      },
      "source": [
        "model.save('ModelBuiltOnUpdatedData64x64.hdf5')"
      ],
      "execution_count": 50,
      "outputs": []
    },
    {
      "cell_type": "code",
      "metadata": {
        "colab": {
          "base_uri": "https://localhost:8080/"
        },
        "id": "6n8Y3iNIfM3O",
        "outputId": "9394d450-c1f0-49a2-fcdc-445246c133c6"
      },
      "source": [
        "model = get_model()\n",
        "model.load_weights('/content/ModelBuiltOnUpdatedData64x64.hdf5')"
      ],
      "execution_count": 51,
      "outputs": [
        {
          "output_type": "stream",
          "text": [
            "Model: \"model_4\"\n",
            "__________________________________________________________________________________________________\n",
            "Layer (type)                    Output Shape         Param #     Connected to                     \n",
            "==================================================================================================\n",
            "input_5 (InputLayer)            [(None, 64, 64, 1)]  0                                            \n",
            "__________________________________________________________________________________________________\n",
            "conv2d_76 (Conv2D)              (None, 64, 64, 16)   160         input_5[0][0]                    \n",
            "__________________________________________________________________________________________________\n",
            "dropout_36 (Dropout)            (None, 64, 64, 16)   0           conv2d_76[0][0]                  \n",
            "__________________________________________________________________________________________________\n",
            "conv2d_77 (Conv2D)              (None, 64, 64, 16)   2320        dropout_36[0][0]                 \n",
            "__________________________________________________________________________________________________\n",
            "max_pooling2d_16 (MaxPooling2D) (None, 32, 32, 16)   0           conv2d_77[0][0]                  \n",
            "__________________________________________________________________________________________________\n",
            "conv2d_78 (Conv2D)              (None, 32, 32, 32)   4640        max_pooling2d_16[0][0]           \n",
            "__________________________________________________________________________________________________\n",
            "dropout_37 (Dropout)            (None, 32, 32, 32)   0           conv2d_78[0][0]                  \n",
            "__________________________________________________________________________________________________\n",
            "conv2d_79 (Conv2D)              (None, 32, 32, 32)   9248        dropout_37[0][0]                 \n",
            "__________________________________________________________________________________________________\n",
            "max_pooling2d_17 (MaxPooling2D) (None, 16, 16, 32)   0           conv2d_79[0][0]                  \n",
            "__________________________________________________________________________________________________\n",
            "conv2d_80 (Conv2D)              (None, 16, 16, 64)   18496       max_pooling2d_17[0][0]           \n",
            "__________________________________________________________________________________________________\n",
            "dropout_38 (Dropout)            (None, 16, 16, 64)   0           conv2d_80[0][0]                  \n",
            "__________________________________________________________________________________________________\n",
            "conv2d_81 (Conv2D)              (None, 16, 16, 64)   36928       dropout_38[0][0]                 \n",
            "__________________________________________________________________________________________________\n",
            "max_pooling2d_18 (MaxPooling2D) (None, 8, 8, 64)     0           conv2d_81[0][0]                  \n",
            "__________________________________________________________________________________________________\n",
            "conv2d_82 (Conv2D)              (None, 8, 8, 128)    73856       max_pooling2d_18[0][0]           \n",
            "__________________________________________________________________________________________________\n",
            "dropout_39 (Dropout)            (None, 8, 8, 128)    0           conv2d_82[0][0]                  \n",
            "__________________________________________________________________________________________________\n",
            "conv2d_83 (Conv2D)              (None, 8, 8, 128)    147584      dropout_39[0][0]                 \n",
            "__________________________________________________________________________________________________\n",
            "max_pooling2d_19 (MaxPooling2D) (None, 4, 4, 128)    0           conv2d_83[0][0]                  \n",
            "__________________________________________________________________________________________________\n",
            "conv2d_84 (Conv2D)              (None, 4, 4, 256)    295168      max_pooling2d_19[0][0]           \n",
            "__________________________________________________________________________________________________\n",
            "dropout_40 (Dropout)            (None, 4, 4, 256)    0           conv2d_84[0][0]                  \n",
            "__________________________________________________________________________________________________\n",
            "conv2d_85 (Conv2D)              (None, 4, 4, 256)    590080      dropout_40[0][0]                 \n",
            "__________________________________________________________________________________________________\n",
            "conv2d_transpose_16 (Conv2DTran (None, 8, 8, 128)    131200      conv2d_85[0][0]                  \n",
            "__________________________________________________________________________________________________\n",
            "concatenate_16 (Concatenate)    (None, 8, 8, 256)    0           conv2d_transpose_16[0][0]        \n",
            "                                                                 conv2d_83[0][0]                  \n",
            "__________________________________________________________________________________________________\n",
            "conv2d_86 (Conv2D)              (None, 8, 8, 128)    295040      concatenate_16[0][0]             \n",
            "__________________________________________________________________________________________________\n",
            "dropout_41 (Dropout)            (None, 8, 8, 128)    0           conv2d_86[0][0]                  \n",
            "__________________________________________________________________________________________________\n",
            "conv2d_87 (Conv2D)              (None, 8, 8, 128)    147584      dropout_41[0][0]                 \n",
            "__________________________________________________________________________________________________\n",
            "conv2d_transpose_17 (Conv2DTran (None, 16, 16, 64)   32832       conv2d_87[0][0]                  \n",
            "__________________________________________________________________________________________________\n",
            "concatenate_17 (Concatenate)    (None, 16, 16, 128)  0           conv2d_transpose_17[0][0]        \n",
            "                                                                 conv2d_81[0][0]                  \n",
            "__________________________________________________________________________________________________\n",
            "conv2d_88 (Conv2D)              (None, 16, 16, 64)   73792       concatenate_17[0][0]             \n",
            "__________________________________________________________________________________________________\n",
            "dropout_42 (Dropout)            (None, 16, 16, 64)   0           conv2d_88[0][0]                  \n",
            "__________________________________________________________________________________________________\n",
            "conv2d_89 (Conv2D)              (None, 16, 16, 64)   36928       dropout_42[0][0]                 \n",
            "__________________________________________________________________________________________________\n",
            "conv2d_transpose_18 (Conv2DTran (None, 32, 32, 32)   8224        conv2d_89[0][0]                  \n",
            "__________________________________________________________________________________________________\n",
            "concatenate_18 (Concatenate)    (None, 32, 32, 64)   0           conv2d_transpose_18[0][0]        \n",
            "                                                                 conv2d_79[0][0]                  \n",
            "__________________________________________________________________________________________________\n",
            "conv2d_90 (Conv2D)              (None, 32, 32, 32)   18464       concatenate_18[0][0]             \n",
            "__________________________________________________________________________________________________\n",
            "dropout_43 (Dropout)            (None, 32, 32, 32)   0           conv2d_90[0][0]                  \n",
            "__________________________________________________________________________________________________\n",
            "conv2d_91 (Conv2D)              (None, 32, 32, 32)   9248        dropout_43[0][0]                 \n",
            "__________________________________________________________________________________________________\n",
            "conv2d_transpose_19 (Conv2DTran (None, 64, 64, 16)   2064        conv2d_91[0][0]                  \n",
            "__________________________________________________________________________________________________\n",
            "concatenate_19 (Concatenate)    (None, 64, 64, 32)   0           conv2d_transpose_19[0][0]        \n",
            "                                                                 conv2d_77[0][0]                  \n",
            "__________________________________________________________________________________________________\n",
            "conv2d_92 (Conv2D)              (None, 64, 64, 16)   4624        concatenate_19[0][0]             \n",
            "__________________________________________________________________________________________________\n",
            "dropout_44 (Dropout)            (None, 64, 64, 16)   0           conv2d_92[0][0]                  \n",
            "__________________________________________________________________________________________________\n",
            "conv2d_93 (Conv2D)              (None, 64, 64, 16)   2320        dropout_44[0][0]                 \n",
            "__________________________________________________________________________________________________\n",
            "conv2d_94 (Conv2D)              (None, 64, 64, 1)    17          conv2d_93[0][0]                  \n",
            "==================================================================================================\n",
            "Total params: 1,940,817\n",
            "Trainable params: 1,940,817\n",
            "Non-trainable params: 0\n",
            "__________________________________________________________________________________________________\n"
          ],
          "name": "stdout"
        }
      ]
    },
    {
      "cell_type": "code",
      "metadata": {
        "colab": {
          "base_uri": "https://localhost:8080/"
        },
        "id": "J_HNKGPdfQod",
        "outputId": "51f904d9-b74b-45cc-f815-0ac7fde594d5"
      },
      "source": [
        "\t# evaluate model\n",
        "_, acc = model.evaluate(X_test, y_test)\n",
        "print(\"Accuracy = \", (acc * 100.0), \"%\")"
      ],
      "execution_count": 52,
      "outputs": [
        {
          "output_type": "stream",
          "text": [
            "10/10 [==============================] - 3s 42ms/step - loss: 0.0159 - accuracy: 0.9930\n",
            "Accuracy =  99.26892518997192 %\n"
          ],
          "name": "stdout"
        }
      ]
    },
    {
      "cell_type": "code",
      "metadata": {
        "colab": {
          "base_uri": "https://localhost:8080/"
        },
        "id": "Iy9PJjCSfS8k",
        "outputId": "6dedf49f-8ebb-4f7a-f2af-c6e67a373fc8"
      },
      "source": [
        "y_pred=model.predict(X_test)\n",
        "y_pred_thresholded = y_pred > 0.5\n",
        "\n",
        "intersection = np.logical_and(y_test, y_pred_thresholded)\n",
        "union = np.logical_or(y_test, y_pred_thresholded)\n",
        "iou_score = np.sum(intersection) / np.sum(union)\n",
        "print(\"IoU socre is: \", iou_score)"
      ],
      "execution_count": 53,
      "outputs": [
        {
          "output_type": "stream",
          "text": [
            "IoU socre is:  0.7740291559475683\n"
          ],
          "name": "stdout"
        }
      ]
    },
    {
      "cell_type": "code",
      "metadata": {
        "colab": {
          "base_uri": "https://localhost:8080/"
        },
        "id": "QuQgRo_rh0Qe",
        "outputId": "dfa2668b-9161-4fa9-fbea-37ec7924ea88"
      },
      "source": [
        "!pip install patchify"
      ],
      "execution_count": 54,
      "outputs": [
        {
          "output_type": "stream",
          "text": [
            "Requirement already satisfied: patchify in /usr/local/lib/python3.7/dist-packages (0.2.3)\n",
            "Requirement already satisfied: numpy<2,>=1 in /usr/local/lib/python3.7/dist-packages (from patchify) (1.19.5)\n"
          ],
          "name": "stdout"
        }
      ]
    },
    {
      "cell_type": "code",
      "metadata": {
        "colab": {
          "base_uri": "https://localhost:8080/"
        },
        "id": "1OoZeO5MfVPL",
        "outputId": "6531dc50-dc1a-46df-9ba7-e1cdfd77c1b4"
      },
      "source": [
        "import tifffile as tiff\n",
        "from tifffile import imread, imwrite\n",
        "from patchify import patchify, unpatchify\n",
        "from skimage.transform import resize\n",
        "segmentedImages = []\n",
        "\n",
        "data = imread('/content/JohTestImage.tif')\n",
        "resized_data = resize(data, (57, 512, 512))\n",
        "imwrite('/content/JohTestImageResized.tif', resized_data, planarconfig='CONTIG')\n",
        "\n",
        "large_image_stack = tiff.imread('/content/JohTestImageResized.tif')\n",
        "\n",
        "print(large_image_stack.shape)\n",
        "count = 0\n",
        "for img in range(large_image_stack.shape[0]):\n",
        "    predicted_patches = []\n",
        "    large_image = large_image_stack[img]\n",
        "    patches_img = patchify(large_image, (SIZE, SIZE), step=SIZE)  #Step=256 for 256 patches means no overlap \n",
        " \n",
        "    for i in range(patches_img.shape[0]):\n",
        "        for j in range(patches_img.shape[1]): \n",
        "            single_patch = patches_img[i,j,:,:]\n",
        "            single_patch_norm = np.expand_dims(tf.keras.utils.normalize(np.array(single_patch), axis=1),2)\n",
        "            single_patch_input=np.expand_dims(single_patch_norm, 0)\n",
        "            single_patch_prediction = (model.predict(single_patch_input)[0,:,:,0] > 0.1).astype(np.uint8)\n",
        "           # single_patch_predicted_img=np.argmax(single_patch_prediction, axis=3)[0,:,:]\n",
        "            predicted_patches.append(single_patch_prediction)\n",
        "\n",
        "    predicted_patches = np.array(predicted_patches)\n",
        "    predicted_patches_reshaped = np.reshape(predicted_patches, (patches_img.shape[0], patches_img.shape[1], SIZE,SIZE) )\n",
        "    reconstructed_image = unpatchify(predicted_patches_reshaped, large_image.shape)\n",
        "    segmentedImages.append(reconstructed_image)\n",
        "    # im = Image.fromarray(reconstructed_image)\n",
        "    # im.save('finalSegmentedImage'+str(count)+'.tif')\n",
        "    #imsave('finalSegmentedImage'+str(count)+'.tif', reconstructed_image)\n",
        "    # count+=1\n",
        "    # plt.imshow(reconstructed_image, cmap='gray')\n",
        "    # plt.savefig('/content/OutputMasks/finalSegmentedImage'+str(count)+'.tif')\n",
        "    \n",
        "    # plt.show()\n",
        "\n",
        "hopefullyTheFinalImage = np.array(segmentedImages).astype(np.uint8)\n",
        "# plt.figure(figsize=(16, 8))\n",
        "# plt.imshow(hopefullyTheFinalImage, cmap='gray')\n",
        " "
      ],
      "execution_count": 56,
      "outputs": [
        {
          "output_type": "stream",
          "text": [
            "(57, 512, 512)\n"
          ],
          "name": "stdout"
        }
      ]
    },
    {
      "cell_type": "code",
      "metadata": {
        "id": "teDcpoSgymhh",
        "colab": {
          "base_uri": "https://localhost:8080/"
        },
        "outputId": "6c6b13ae-6890-4b31-e4c2-0f34c89c3d28"
      },
      "source": [
        "hopefullyTheFinalImage.shape"
      ],
      "execution_count": 57,
      "outputs": [
        {
          "output_type": "execute_result",
          "data": {
            "text/plain": [
              "(57, 512, 512)"
            ]
          },
          "metadata": {
            "tags": []
          },
          "execution_count": 57
        }
      ]
    },
    {
      "cell_type": "code",
      "metadata": {
        "id": "-KlT4AQ8hxfx"
      },
      "source": [
        "from tifffile import imsave\n",
        "imsave('finalSegmentedImage64x64.tif', hopefullyTheFinalImage)\n"
      ],
      "execution_count": 58,
      "outputs": []
    },
    {
      "cell_type": "code",
      "metadata": {
        "colab": {
          "base_uri": "https://localhost:8080/",
          "height": 499
        },
        "id": "052upnXniK3W",
        "outputId": "307ef003-cf52-4851-c0a2-7f741cf3c49e"
      },
      "source": [
        "test_img_other = cv2.imread('/content/testImage0_image_0_21.tif', 0)\n",
        "test_img_other = cv2.resize(test_img_other, (SIZE, SIZE))\n",
        "test_img_other_norm = np.expand_dims(tf.keras.utils.normalize(np.array(test_img_other), axis=1),2)\n",
        "test_img_other_norm=test_img_other_norm[:,:,0][:,:,None]\n",
        "test_img_other_input=np.expand_dims(test_img_other_norm, 0)\n",
        "prediction_other = (model.predict(test_img_other_input)[0,:,:,0] > 0.1).astype(np.uint8)\n",
        "\n",
        "plt.figure(figsize=(16, 8))\n",
        "plt.title('Prediction of external Image')\n",
        "plt.imshow(prediction_other, cmap='gray')\n",
        "plt.show()"
      ],
      "execution_count": null,
      "outputs": [
        {
          "output_type": "display_data",
          "data": {
            "image/png": "[encoded data removed]",
            "text/plain": [
              "<Figure size 1152x576 with 1 Axes>"
            ]
          },
          "metadata": {
            "tags": [],
            "needs_background": "light"
          }
        }
      ]
    },
    {
      "cell_type": "code",
      "metadata": {
        "id": "EeVMpy6NtKuW",
        "colab": {
          "base_uri": "https://localhost:8080/"
        },
        "outputId": "1cd0fe3b-0fd7-42c4-fc2b-12936d50e65a"
      },
      "source": [
        "!zip -r /content/IndividualMasks.zip /content/OutputMasks"
      ],
      "execution_count": null,
      "outputs": [
        {
          "output_type": "stream",
          "text": [
            "  adding: content/OutputMasks/ (stored 0%)\n",
            "  adding: content/OutputMasks/finalSegmentedImage19.tif (deflated 96%)\n",
            "  adding: content/OutputMasks/finalSegmentedImage10.tif (deflated 97%)\n",
            "  adding: content/OutputMasks/finalSegmentedImage54.tif (deflated 98%)\n",
            "  adding: content/OutputMasks/finalSegmentedImage52.tif (deflated 98%)\n",
            "  adding: content/OutputMasks/finalSegmentedImage56.tif (deflated 99%)\n",
            "  adding: content/OutputMasks/finalSegmentedImage25.tif (deflated 96%)\n",
            "  adding: content/OutputMasks/finalSegmentedImage17.tif (deflated 96%)\n",
            "  adding: content/OutputMasks/finalSegmentedImage50.tif (deflated 97%)\n",
            "  adding: content/OutputMasks/finalSegmentedImage26.tif (deflated 96%)\n",
            "  adding: content/OutputMasks/finalSegmentedImage20.tif (deflated 96%)\n",
            "  adding: content/OutputMasks/finalSegmentedImage1.tif (deflated 99%)\n",
            "  adding: content/OutputMasks/finalSegmentedImage45.tif (deflated 96%)\n",
            "  adding: content/OutputMasks/finalSegmentedImage49.tif (deflated 97%)\n",
            "  adding: content/OutputMasks/.ipynb_checkpoints/ (stored 0%)\n",
            "  adding: content/OutputMasks/finalSegmentedImage3.tif (deflated 99%)\n",
            "  adding: content/OutputMasks/finalSegmentedImage33.tif (deflated 96%)\n",
            "  adding: content/OutputMasks/finalSegmentedImage40.tif (deflated 96%)\n",
            "  adding: content/OutputMasks/finalSegmentedImage8.tif (deflated 98%)\n",
            "  adding: content/OutputMasks/finalSegmentedImage55.tif (deflated 98%)\n",
            "  adding: content/OutputMasks/finalSegmentedImage27.tif (deflated 96%)\n",
            "  adding: content/OutputMasks/finalSegmentedImage43.tif (deflated 96%)\n",
            "  adding: content/OutputMasks/finalSegmentedImage38.tif (deflated 96%)\n",
            "  adding: content/OutputMasks/finalSegmentedImage13.tif (deflated 97%)\n",
            "  adding: content/OutputMasks/finalSegmentedImage24.tif (deflated 96%)\n",
            "  adding: content/OutputMasks/finalSegmentedImage41.tif (deflated 96%)\n",
            "  adding: content/OutputMasks/finalSegmentedImage23.tif (deflated 96%)\n",
            "  adding: content/OutputMasks/finalSegmentedImage48.tif (deflated 97%)\n",
            "  adding: content/OutputMasks/finalSegmentedImage35.tif (deflated 96%)\n",
            "  adding: content/OutputMasks/finalSegmentedImage57.tif (deflated 99%)\n",
            "  adding: content/OutputMasks/finalSegmentedImage39.tif (deflated 96%)\n",
            "  adding: content/OutputMasks/finalSegmentedImage14.tif (deflated 97%)\n",
            "  adding: content/OutputMasks/finalSegmentedImage30.tif (deflated 96%)\n",
            "  adding: content/OutputMasks/finalSegmentedImage11.tif (deflated 97%)\n",
            "  adding: content/OutputMasks/finalSegmentedImage2.tif (deflated 99%)\n",
            "  adding: content/OutputMasks/finalSegmentedImage42.tif (deflated 96%)\n",
            "  adding: content/OutputMasks/finalSegmentedImage44.tif (deflated 96%)\n",
            "  adding: content/OutputMasks/finalSegmentedImage21.tif (deflated 96%)\n",
            "  adding: content/OutputMasks/finalSegmentedImage22.tif (deflated 96%)\n",
            "  adding: content/OutputMasks/finalSegmentedImage7.tif (deflated 98%)\n",
            "  adding: content/OutputMasks/finalSegmentedImage53.tif (deflated 98%)\n",
            "  adding: content/OutputMasks/finalSegmentedImage37.tif (deflated 96%)\n",
            "  adding: content/OutputMasks/finalSegmentedImage18.tif (deflated 96%)\n",
            "  adding: content/OutputMasks/finalSegmentedImage36.tif (deflated 96%)\n",
            "  adding: content/OutputMasks/finalSegmentedImage12.tif (deflated 97%)\n",
            "  adding: content/OutputMasks/finalSegmentedImage6.tif (deflated 98%)\n",
            "  adding: content/OutputMasks/finalSegmentedImage46.tif (deflated 96%)\n",
            "  adding: content/OutputMasks/finalSegmentedImage9.tif (deflated 97%)\n",
            "  adding: content/OutputMasks/finalSegmentedImage47.tif (deflated 97%)\n",
            "  adding: content/OutputMasks/finalSegmentedImage5.tif (deflated 99%)\n",
            "  adding: content/OutputMasks/finalSegmentedImage28.tif (deflated 96%)\n",
            "  adding: content/OutputMasks/finalSegmentedImage32.tif (deflated 96%)\n",
            "  adding: content/OutputMasks/finalSegmentedImage4.tif (deflated 99%)\n",
            "  adding: content/OutputMasks/finalSegmentedImage31.tif (deflated 96%)\n",
            "  adding: content/OutputMasks/finalSegmentedImage16.tif (deflated 96%)\n",
            "  adding: content/OutputMasks/finalSegmentedImage29.tif (deflated 96%)\n",
            "  adding: content/OutputMasks/finalSegmentedImage51.tif (deflated 98%)\n",
            "  adding: content/OutputMasks/finalSegmentedImage15.tif (deflated 97%)\n",
            "  adding: content/OutputMasks/finalSegmentedImage34.tif (deflated 96%)\n"
          ],
          "name": "stdout"
        }
      ]
    },
    {
      "cell_type": "code",
      "metadata": {
        "id": "LhjUyBwp8q4a"
      },
      "source": [
        ""
      ],
      "execution_count": null,
      "outputs": []
    }
  ]
}
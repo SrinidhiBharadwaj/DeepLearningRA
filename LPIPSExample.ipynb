{
 "cells": [
  {
   "cell_type": "code",
   "execution_count": 125,
   "id": "9e25b08e",
   "metadata": {},
   "outputs": [],
   "source": [
    "#import necessary dependency packages\n",
    "import lpips\n",
    "import numpy as np"
   ]
  },
  {
   "cell_type": "code",
   "execution_count": null,
   "id": "dcd9a57e",
   "metadata": {},
   "outputs": [],
   "source": [
    "#Test for LPIPS library verification -- Not run\n",
    "!python PerceptualSimilarity/lpips_2imgs.py -p0 LPIPS_example/1_.png -p1 LPIPS_example/3_.png"
   ]
  },
  {
   "cell_type": "code",
   "execution_count": 126,
   "id": "165f1954",
   "metadata": {},
   "outputs": [],
   "source": [
    "#Import the test images and convert them to numppy array for patch creation\n",
    "from PIL import Image\n",
    "im1 = Image.open(\"LPIPS_example/1_.png\").convert('RGB')\n",
    "im3 = Image.open(\"LPIPS_example/3_.png\")\n",
    "\n",
    "#Load the image into a numpy array for patch creation using sklearn\n",
    "numpyImageData1 = np.asarray(im1)\n",
    "numpyImageData3 = np.asarray(im3)"
   ]
  },
  {
   "cell_type": "code",
   "execution_count": 127,
   "id": "168391a8",
   "metadata": {},
   "outputs": [],
   "source": [
    "from sklearn.feature_extraction import image\n",
    "#Extract patches with size 100, 100 (Randomly chosen number)\n",
    "#Note: Larger patch size results in longer time\n",
    "patchesofImage1 = image.extract_patches_2d(numpyImageData1, (100,100))\n",
    "patchesofImage3 = image.extract_patches_2d(numpyImageData3, (100,100))"
   ]
  },
  {
   "cell_type": "code",
   "execution_count": 128,
   "id": "5f7f92c3",
   "metadata": {},
   "outputs": [],
   "source": [
    "import random\n",
    "randomIndex = random.sample(range(1, 384090), 5)\n",
    "\n",
    "patchesofImage1_random = np.zeros(shape=(5,100,100,3), dtype=np.uint8)\n",
    "patchesofImage3_random = np.zeros(shape=(5,100,100,3), dtype=np.uint8)\n",
    "\n",
    "#Copy patches that have been created randomly for similarity measurements\n",
    "for index, values in np.ndenumerate(randomIndex):\n",
    "    patchesofImage1_random[index] = patchesofImage1[values]\n",
    "    patchesofImage3_random[index] = patchesofImage3[values]\n"
   ]
  },
  {
   "cell_type": "code",
   "execution_count": 129,
   "id": "f2807058",
   "metadata": {},
   "outputs": [],
   "source": [
    "#Save patches as png files (There might be a better way to run the LPIPS code to avoid temp storage)\n",
    "for idx in range(0, 5):\n",
    "    pathToPatches1 = \"LPIPS_example/PatchesDirectory/patch1_\" + str(idx) +\".png\"\n",
    "    pathToPatches3 = \"LPIPS_example/PatchesDirectory/patch3_\" + str(idx) +\".png\"\n",
    "    Image.fromarray(patchesofImage1_random[idx]).save(pathToPatches1)\n",
    "    Image.fromarray(patchesofImage3_random[idx]).save(pathToPatches3)\n"
   ]
  },
  {
   "cell_type": "code",
   "execution_count": 130,
   "id": "5433243c",
   "metadata": {},
   "outputs": [],
   "source": [
    "#Copy the result of similarity measurement algorith to a local structure to use for plotting\n",
    "data = np.zeros(shape=(5,5), dtype=object)\n",
    "data[0] = !python PerceptualSimilarity/lpips_2imgs.py -p0 LPIPS_example/PatchesDirectory/patch1_0.png -p1 LPIPS_example/PatchesDirectory/patch3_0.png\n",
    "data[1] = !python PerceptualSimilarity/lpips_2imgs.py -p0 LPIPS_example/PatchesDirectory/patch1_1.png -p1 LPIPS_example/PatchesDirectory/patch3_1.png\n",
    "data[2] = !python PerceptualSimilarity/lpips_2imgs.py -p0 LPIPS_example/PatchesDirectory/patch1_2.png -p1 LPIPS_example/PatchesDirectory/patch3_2.png\n",
    "data[3] = !python PerceptualSimilarity/lpips_2imgs.py -p0 LPIPS_example/PatchesDirectory/patch1_2.png -p1 LPIPS_example/PatchesDirectory/patch3_3.png\n",
    "data[4] = !python PerceptualSimilarity/lpips_2imgs.py -p0 LPIPS_example/PatchesDirectory/patch1_4.png -p1 LPIPS_example/PatchesDirectory/patch3_4.png"
   ]
  },
  {
   "cell_type": "code",
   "execution_count": 132,
   "id": "7c92423b",
   "metadata": {},
   "outputs": [
    {
     "data": {
      "image/png": "[encoded data removed]",
      "text/plain": [
       "<Figure size 700x500 with 1 Axes>"
      ]
     },
     "metadata": {
      "needs_background": "light"
     },
     "output_type": "display_data"
    }
   ],
   "source": [
    "import matplotlib.pyplot as plt\n",
    "plt.rcParams.update({'figure.figsize':(7,5), 'figure.dpi':100})\n",
    "\n",
    "x_axis =[\"Patch 1\", \"Patch 2\", \"Patch 3\", \"Patch 4\", \"Patch 5\"]\n",
    "y_axis = [float(data[idx][4][11:]) for idx in range(0, 5)]\n",
    "# creating the bar plot\n",
    "plt.bar(x_axis, y_axis)\n",
    "plt.xlabel(\"Randomly selected patches\", color='White')\n",
    "plt.ylabel(\"Distance between patches of 2 images\", color='White')\n",
    "plt.title(\"LPIPS Similarity between patches of images\", color='White')\n",
    "plt.show()\n"
   ]
  },
  {
   "cell_type": "code",
   "execution_count": null,
   "id": "4df8f5bf",
   "metadata": {},
   "outputs": [],
   "source": []
  }
 ],
 "metadata": {
  "kernelspec": {
   "display_name": "Python 3",
   "language": "python",
   "name": "python3"
  },
  "language_info": {
   "codemirror_mode": {
    "name": "ipython",
    "version": 3
   },
   "file_extension": ".py",
   "mimetype": "text/x-python",
   "name": "python",
   "nbconvert_exporter": "python",
   "pygments_lexer": "ipython3",
   "version": "3.7.10"
  }
 },
 "nbformat": 4,
 "nbformat_minor": 5
}
